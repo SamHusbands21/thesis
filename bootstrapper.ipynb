{
 "cells": [
  {
   "cell_type": "markdown",
   "id": "32ad0af6",
   "metadata": {},
   "source": [
    "# Bootstrapper\n",
    "\n",
    "This notebook creates bootstrap draws of the orginal dataset to capture uncertainty in discriminatory performance."
   ]
  },
  {
   "cell_type": "code",
   "execution_count": 1,
   "id": "845ab5b2",
   "metadata": {},
   "outputs": [],
   "source": [
    "#packages\n",
    "import pandas as pd\n",
    "pd.set_option('display.float_format', lambda x: '%.2f' % x)\n",
    "import numpy as np\n",
    "np.random.seed(21)"
   ]
  },
  {
   "cell_type": "code",
   "execution_count": 2,
   "id": "692ab747",
   "metadata": {},
   "outputs": [],
   "source": [
    "def bootstrapper(df, file_location, bootstrap_count = 999, n = None):\n",
    "    '''This function takes a dataset and produces bootstrap draws of it\n",
    "       df: The dataframe to be bootstrapped (pandas dataframe)\n",
    "       file_location: A string showing where to save the bootstrapped dataset\n",
    "       bootstrap_count: the number a bootrap draws (integer; default 999)\n",
    "       n: The number of draws of the orginal dataset with replacement (by default the length of original dataset)'''\n",
    "    if n == None:\n",
    "        n = len(df.index)\n",
    "    for i in range(bootstrap_count):\n",
    "        data = df.iloc[np.random.randint(n, size = n)].reset_index(drop = True)\n",
    "        data.to_csv(file_location + '/mortality_{}.csv'.format(str(i+1)), index = False)\n",
    "    return None"
   ]
  },
  {
   "cell_type": "code",
   "execution_count": 3,
   "id": "d4851771",
   "metadata": {},
   "outputs": [],
   "source": [
    "np.random.seed(21)\n",
    "mf = pd.read_csv('./data/2007/mortality.csv').set_index('id')\n",
    "bootstrapper(mf, file_location = './data/bootstraps')"
   ]
  }
 ],
 "metadata": {
  "kernelspec": {
   "display_name": "Python 3",
   "language": "python",
   "name": "python3"
  },
  "language_info": {
   "codemirror_mode": {
    "name": "ipython",
    "version": 3
   },
   "file_extension": ".py",
   "mimetype": "text/x-python",
   "name": "python",
   "nbconvert_exporter": "python",
   "pygments_lexer": "ipython3",
   "version": "3.8.8"
  }
 },
 "nbformat": 4,
 "nbformat_minor": 5
}
