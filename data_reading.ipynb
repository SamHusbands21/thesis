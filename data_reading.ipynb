{
 "cells": [
  {
   "cell_type": "markdown",
   "id": "8928488a",
   "metadata": {},
   "source": [
    "# Data Reading\n",
    "\n",
    "This notebook implements the data reading and manipulation for my thesis comparing different supervised machine learning techniques (logistic regression, random forests, support vector machines and neural networks). The main focus surrounds when each method results in better performance as measured by discrimination (AUC) and calibration (calibration plots). This project considers various factors including the number of features, number of datapoints and 'predictor strength'. "
   ]
  },
  {
   "cell_type": "code",
   "execution_count": 1,
   "id": "124ce5c0",
   "metadata": {},
   "outputs": [],
   "source": [
    "#relevant packages\n",
    "import pandas as pd\n",
    "import numpy as np\n",
    "import os\n",
    "os.chdir(str(os.getcwd())+'\\\\Data\\\\2007')"
   ]
  },
  {
   "cell_type": "markdown",
   "id": "c749e0fa",
   "metadata": {},
   "source": [
    "## Data\n",
    "\n",
    "The dataset used is the NHANES dataset (https://wwwn.cdc.gov/nchs/nhanes/continuousnhanes/) ran by the center for disease control. I used the 2007-2008 wave of NHANES such that over ten years had passed, as the dependent variable, ten-year mortality, requires this. This dataset was chosen as it is feature rich and datapoint rich, allowing for a thorough comparison of supervised ML methods."
   ]
  },
  {
   "cell_type": "code",
   "execution_count": 2,
   "id": "2a1d5491",
   "metadata": {},
   "outputs": [],
   "source": [
    "#reading the various constituent pieces of the 2007-2008 NHANES, available on the website link above\n",
    "demo = pd.read_sas('DEMO_E.XPT')\n",
    "bm = pd.read_sas('BMX_E.XPT')\n",
    "smk = pd.read_sas('SMQ_E.XPT')\n",
    "alc = pd.read_sas('ALQ_E.XPT')\n",
    "bp = pd.read_sas('BPX_E.XPT')\n",
    "chol = pd.read_sas('TCHOL_E.XPT')\n",
    "diab = pd.read_sas('DIQ_E.XPT')"
   ]
  },
  {
   "cell_type": "code",
   "execution_count": 3,
   "id": "c9d376a2",
   "metadata": {},
   "outputs": [],
   "source": [
    "#creates sel_demo, which takes the variables we are interested in\n",
    "#from the demographic data file and recodes it in a more desireable format\n",
    "sel_demo = demo.copy()[['SEQN', 'RIDAGEYR', 'RIAGENDR']]\n",
    "sel_demo.rename(columns = {'SEQN': 'id',\n",
    "                           'RIDAGEYR': 'age',\n",
    "                           'RIAGENDR': 'sex'},\n",
    "                           inplace = True)\n",
    "sel_demo[['id', 'age', 'sex']] = sel_demo[['id', 'age', 'sex']].astype(int)\n",
    "sel_demo.set_index('id', inplace = True)\n",
    "sel_demo['sex'] = sel_demo['sex'].apply(lambda x: \"Male\" if x == 1 else \"Female\")"
   ]
  },
  {
   "cell_type": "code",
   "execution_count": 4,
   "id": "c457fab3",
   "metadata": {},
   "outputs": [],
   "source": [
    "#creates sel_bm, which takes the variable we are interested in \n",
    "#from the body measurements data file and recodes it in a more desireable format\n",
    "sel_bm = bm.copy()[['SEQN', 'BMXBMI']]\n",
    "sel_bm.rename(columns = {'SEQN': 'id',\n",
    "                         'BMXBMI': 'bmi'},\n",
    "              inplace = True)\n",
    "sel_bm[['id']] = sel_bm[['id']].astype(int)\n",
    "sel_bm.set_index('id', inplace = True)"
   ]
  },
  {
   "cell_type": "code",
   "execution_count": 5,
   "id": "aa9d3dd8",
   "metadata": {},
   "outputs": [],
   "source": [
    "#creates sel_smk, which takes the variable we are interested in \n",
    "#from the smoking - cigarette use data file and recodes it in a more desireable format\n",
    "#smoker is a yes if more than 100 lifetime cigarettes\n",
    "sel_smk = smk.copy()[['SEQN', 'SMQ020']]\n",
    "sel_smk.rename(columns = {'SEQN': 'id',\n",
    "                          'SMQ020': 'smoke'},\n",
    "               inplace = True)\n",
    "sel_smk[['id']] = sel_smk[['id']].astype(int)\n",
    "sel_smk.set_index('id', inplace = True)\n",
    "sel_smk['smoke'] = sel_smk['smoke'].apply(lambda x: \"Yes\" if x == 1.0 else (\"No\" if x == 2.0 else np.NaN))"
   ]
  },
  {
   "cell_type": "code",
   "execution_count": 6,
   "id": "e8ffe7e0",
   "metadata": {},
   "outputs": [],
   "source": [
    "#creates sel_alc, which takes the variable we are interested in \n",
    "#from the alcohol use data file and recodes it in a more desireable format\n",
    "#alcohol is a yes if consumed more than 12 alcoholic drinks per year.\n",
    "sel_alc = alc.copy()[['SEQN', 'ALQ101']]\n",
    "sel_alc.rename(columns = {'SEQN': 'id',\n",
    "                          'ALQ101': 'alcohol'},\n",
    "               inplace = True)\n",
    "sel_alc[['id']] = sel_alc[['id']].astype(int)\n",
    "sel_alc.set_index('id', inplace = True)\n",
    "sel_alc['alcohol'] = sel_alc['alcohol'].apply(lambda x: \"Yes\" if x == 1.0 else (\"No\" if x == 2.0 else np.NaN))"
   ]
  },
  {
   "cell_type": "code",
   "execution_count": 7,
   "id": "59f5ece3",
   "metadata": {},
   "outputs": [],
   "source": [
    "#creates sel_bp, which takes the average of both systolic and diastolic blood pressures.\n",
    "#measured in mmHg\n",
    "sel_bp = bp.copy()[['SEQN', 'BPXSY1', 'BPXSY2', 'BPXSY3', 'BPXSY4', 'BPXDI1', 'BPXDI2', 'BPXDI3', 'BPXDI4']]\n",
    "sel_bp['systolic'] = sel_bp[['BPXSY1', 'BPXSY2', 'BPXSY3', 'BPXSY4']].mean(axis = 1, skipna = True)\n",
    "sel_bp['diastolic'] = sel_bp[['BPXDI1', 'BPXDI2', 'BPXDI3', 'BPXDI4']].mean(axis = 1, skipna = True)\n",
    "sel_bp = sel_bp[['SEQN', 'systolic', 'diastolic']]\n",
    "sel_bp.rename(columns = {'SEQN': 'id'},\n",
    "               inplace = True)\n",
    "sel_bp[['id']] = sel_bp[['id']].astype(int)\n",
    "sel_bp.set_index('id', inplace = True)"
   ]
  },
  {
   "cell_type": "code",
   "execution_count": 8,
   "id": "e3f9597e",
   "metadata": {},
   "outputs": [],
   "source": [
    "#creates sel_chol, which takes the variable we are interested in \n",
    "#from the total cholesterol data file and recodes it in a more desirable format\n",
    "#cholesterol in mmol/L\n",
    "sel_chol = chol.copy()[['SEQN', 'LBDTCSI']]\n",
    "sel_chol.rename(columns = {'SEQN': 'id',\n",
    "                           'LBDTCSI': 'cholesterol'},\n",
    "               inplace = True)\n",
    "sel_chol[['id']] = sel_chol[['id']].astype(int)\n",
    "sel_chol.set_index('id', inplace = True)"
   ]
  },
  {
   "cell_type": "code",
   "execution_count": 9,
   "id": "6d6a2420",
   "metadata": {},
   "outputs": [],
   "source": [
    "#creates sel_diab, which takes the variable we are interested in \n",
    "#from the diabetes data file and recodes it in a more desirable format\n",
    "#diabetes a yes if patient told they had diabetes (borderline treated as missing)\n",
    "sel_diab = diab.copy()[['SEQN', 'DIQ010']]\n",
    "sel_diab.rename(columns = {'SEQN': 'id',\n",
    "                           'DIQ010': 'diabetes'},\n",
    "               inplace = True)\n",
    "sel_diab[['id']] = sel_diab[['id']].astype(int)\n",
    "sel_diab.set_index('id', inplace = True)\n",
    "sel_diab['diabetes'] = sel_diab['diabetes'].apply(lambda x: \"Yes\" if x == 1.0 else (\"No\" if x == 2.0 else np.NaN))"
   ]
  },
  {
   "cell_type": "code",
   "execution_count": 10,
   "id": "aa5a3f60",
   "metadata": {},
   "outputs": [],
   "source": [
    "#loading the mortality file (first ran through enclosed R script)\n",
    "#and formatting it properly\n",
    "lmf = pd.read_csv('lmf.csv')\n",
    "sel_lmf = lmf.copy()[['seqn', 'eligstat', 'mortstat', 'permth_exm']]\n",
    "sel_lmf.rename(columns = {'seqn': 'id',\n",
    "                          'eligstat': 'eligible',\n",
    "                          'mortstat': 'deceased',\n",
    "                          'permth_exm': 'months'},\n",
    "               inplace = True)\n",
    "sel_lmf.set_index('id', inplace = True)\n",
    "sel_lmf['eligible'] = sel_lmf['eligible'].apply(\n",
    "    lambda x: \"Eligible\" if x == 1 else (\"Ineligible\" if x == 2 else np.NaN))\n",
    "sel_lmf['mort10'] = np.where(sel_lmf['eligible']=='Eligible', \n",
    "                             np.logical_and(sel_lmf['deceased'] == 1, sel_lmf['months'] <= 120), \n",
    "                             np.NaN)\n",
    "sel_lmf['mort10'] = sel_lmf['mort10'].apply(lambda x: \"Yes\" if x == 1.0 else (\"No\" if x == 0 else np.NaN))\n",
    "\n",
    "sel_lmf = sel_lmf[['eligible','mort10']]"
   ]
  },
  {
   "cell_type": "code",
   "execution_count": 11,
   "id": "65a1a644",
   "metadata": {},
   "outputs": [],
   "source": [
    "#merges all the data together\n",
    "df = sel_demo.copy()\n",
    "df = df.join(sel_bm, how = 'left')\n",
    "df = df.join(sel_smk, how = 'left')\n",
    "df = df.join(sel_alc, how = 'left')\n",
    "df = df.join(sel_bp, how = 'left')\n",
    "df = df.join(sel_chol, how = 'left')\n",
    "df = df.join(sel_diab, how = 'left')\n",
    "df = df.join(sel_lmf, how = 'left')"
   ]
  },
  {
   "cell_type": "code",
   "execution_count": 20,
   "id": "d2ef70d5",
   "metadata": {},
   "outputs": [
    {
     "data": {
      "text/html": [
       "<div>\n",
       "<style scoped>\n",
       "    .dataframe tbody tr th:only-of-type {\n",
       "        vertical-align: middle;\n",
       "    }\n",
       "\n",
       "    .dataframe tbody tr th {\n",
       "        vertical-align: top;\n",
       "    }\n",
       "\n",
       "    .dataframe thead th {\n",
       "        text-align: right;\n",
       "    }\n",
       "</style>\n",
       "<table border=\"1\" class=\"dataframe\">\n",
       "  <thead>\n",
       "    <tr style=\"text-align: right;\">\n",
       "      <th></th>\n",
       "      <th>age</th>\n",
       "      <th>bmi</th>\n",
       "      <th>systolic</th>\n",
       "      <th>diastolic</th>\n",
       "      <th>cholesterol</th>\n",
       "    </tr>\n",
       "  </thead>\n",
       "  <tbody>\n",
       "    <tr>\n",
       "      <th>count</th>\n",
       "      <td>10149.00</td>\n",
       "      <td>8861.00</td>\n",
       "      <td>7350.00</td>\n",
       "      <td>7350.00</td>\n",
       "      <td>7387.00</td>\n",
       "    </tr>\n",
       "    <tr>\n",
       "      <th>mean</th>\n",
       "      <td>32.97</td>\n",
       "      <td>25.71</td>\n",
       "      <td>119.97</td>\n",
       "      <td>66.63</td>\n",
       "      <td>4.83</td>\n",
       "    </tr>\n",
       "    <tr>\n",
       "      <th>std</th>\n",
       "      <td>25.48</td>\n",
       "      <td>7.61</td>\n",
       "      <td>18.90</td>\n",
       "      <td>14.19</td>\n",
       "      <td>1.09</td>\n",
       "    </tr>\n",
       "    <tr>\n",
       "      <th>min</th>\n",
       "      <td>0.00</td>\n",
       "      <td>12.50</td>\n",
       "      <td>74.00</td>\n",
       "      <td>0.00</td>\n",
       "      <td>2.02</td>\n",
       "    </tr>\n",
       "    <tr>\n",
       "      <th>25%</th>\n",
       "      <td>9.00</td>\n",
       "      <td>19.97</td>\n",
       "      <td>107.33</td>\n",
       "      <td>58.67</td>\n",
       "      <td>4.03</td>\n",
       "    </tr>\n",
       "    <tr>\n",
       "      <th>50%</th>\n",
       "      <td>29.00</td>\n",
       "      <td>25.16</td>\n",
       "      <td>116.67</td>\n",
       "      <td>67.33</td>\n",
       "      <td>4.68</td>\n",
       "    </tr>\n",
       "    <tr>\n",
       "      <th>75%</th>\n",
       "      <td>55.00</td>\n",
       "      <td>30.08</td>\n",
       "      <td>128.67</td>\n",
       "      <td>75.33</td>\n",
       "      <td>5.48</td>\n",
       "    </tr>\n",
       "    <tr>\n",
       "      <th>max</th>\n",
       "      <td>80.00</td>\n",
       "      <td>73.43</td>\n",
       "      <td>224.00</td>\n",
       "      <td>118.67</td>\n",
       "      <td>11.90</td>\n",
       "    </tr>\n",
       "  </tbody>\n",
       "</table>\n",
       "</div>"
      ],
      "text/plain": [
       "           age     bmi  systolic  diastolic  cholesterol\n",
       "count 10149.00 8861.00   7350.00    7350.00      7387.00\n",
       "mean     32.97   25.71    119.97      66.63         4.83\n",
       "std      25.48    7.61     18.90      14.19         1.09\n",
       "min       0.00   12.50     74.00       0.00         2.02\n",
       "25%       9.00   19.97    107.33      58.67         4.03\n",
       "50%      29.00   25.16    116.67      67.33         4.68\n",
       "75%      55.00   30.08    128.67      75.33         5.48\n",
       "max      80.00   73.43    224.00     118.67        11.90"
      ]
     },
     "metadata": {},
     "output_type": "display_data"
    },
    {
     "data": {
      "text/plain": [
       "Male      5096\n",
       "Female    5053\n",
       "Name: sex, dtype: int64"
      ]
     },
     "metadata": {},
     "output_type": "display_data"
    },
    {
     "data": {
      "text/plain": [
       "No     3127\n",
       "Yes    2802\n",
       "Name: smoke, dtype: int64"
      ]
     },
     "metadata": {},
     "output_type": "display_data"
    },
    {
     "data": {
      "text/plain": [
       "Yes    3670\n",
       "No     1557\n",
       "Name: alcohol, dtype: int64"
      ]
     },
     "metadata": {},
     "output_type": "display_data"
    },
    {
     "data": {
      "text/plain": [
       "No     8774\n",
       "Yes     777\n",
       "Name: diabetes, dtype: int64"
      ]
     },
     "metadata": {},
     "output_type": "display_data"
    },
    {
     "data": {
      "text/plain": [
       "No     5362\n",
       "Yes     857\n",
       "Name: mort10, dtype: int64"
      ]
     },
     "metadata": {},
     "output_type": "display_data"
    }
   ],
   "source": [
    "pd.set_option('display.float_format', lambda x: '%.2f' % x)\n",
    "display(df.describe())\n",
    "display(df.sex.value_counts())\n",
    "display(df.smoke.value_counts())\n",
    "display(df.alcohol.value_counts())\n",
    "display(df.diabetes.value_counts())\n",
    "display(df.mort10.value_counts())"
   ]
  },
  {
   "cell_type": "code",
   "execution_count": 12,
   "id": "67eb281c",
   "metadata": {},
   "outputs": [],
   "source": [
    "comp_df = df.dropna(axis = 0, how = 'any') #making it complete case"
   ]
  },
  {
   "cell_type": "code",
   "execution_count": 19,
   "id": "a6f85ee2",
   "metadata": {},
   "outputs": [
    {
     "data": {
      "text/html": [
       "<div>\n",
       "<style scoped>\n",
       "    .dataframe tbody tr th:only-of-type {\n",
       "        vertical-align: middle;\n",
       "    }\n",
       "\n",
       "    .dataframe tbody tr th {\n",
       "        vertical-align: top;\n",
       "    }\n",
       "\n",
       "    .dataframe thead th {\n",
       "        text-align: right;\n",
       "    }\n",
       "</style>\n",
       "<table border=\"1\" class=\"dataframe\">\n",
       "  <thead>\n",
       "    <tr style=\"text-align: right;\">\n",
       "      <th></th>\n",
       "      <th>age</th>\n",
       "      <th>bmi</th>\n",
       "      <th>systolic</th>\n",
       "      <th>diastolic</th>\n",
       "      <th>cholesterol</th>\n",
       "    </tr>\n",
       "  </thead>\n",
       "  <tbody>\n",
       "    <tr>\n",
       "      <th>count</th>\n",
       "      <td>4756.00</td>\n",
       "      <td>4756.00</td>\n",
       "      <td>4756.00</td>\n",
       "      <td>4756.00</td>\n",
       "      <td>4756.00</td>\n",
       "    </tr>\n",
       "    <tr>\n",
       "      <th>mean</th>\n",
       "      <td>50.56</td>\n",
       "      <td>28.94</td>\n",
       "      <td>124.13</td>\n",
       "      <td>69.94</td>\n",
       "      <td>5.10</td>\n",
       "    </tr>\n",
       "    <tr>\n",
       "      <th>std</th>\n",
       "      <td>17.73</td>\n",
       "      <td>6.55</td>\n",
       "      <td>18.63</td>\n",
       "      <td>13.02</td>\n",
       "      <td>1.08</td>\n",
       "    </tr>\n",
       "    <tr>\n",
       "      <th>min</th>\n",
       "      <td>20.00</td>\n",
       "      <td>14.20</td>\n",
       "      <td>80.67</td>\n",
       "      <td>0.00</td>\n",
       "      <td>2.35</td>\n",
       "    </tr>\n",
       "    <tr>\n",
       "      <th>25%</th>\n",
       "      <td>36.00</td>\n",
       "      <td>24.34</td>\n",
       "      <td>111.33</td>\n",
       "      <td>62.67</td>\n",
       "      <td>4.34</td>\n",
       "    </tr>\n",
       "    <tr>\n",
       "      <th>50%</th>\n",
       "      <td>50.00</td>\n",
       "      <td>28.05</td>\n",
       "      <td>120.67</td>\n",
       "      <td>70.67</td>\n",
       "      <td>5.02</td>\n",
       "    </tr>\n",
       "    <tr>\n",
       "      <th>75%</th>\n",
       "      <td>65.00</td>\n",
       "      <td>32.14</td>\n",
       "      <td>133.33</td>\n",
       "      <td>78.00</td>\n",
       "      <td>5.77</td>\n",
       "    </tr>\n",
       "    <tr>\n",
       "      <th>max</th>\n",
       "      <td>80.00</td>\n",
       "      <td>73.43</td>\n",
       "      <td>212.67</td>\n",
       "      <td>118.67</td>\n",
       "      <td>11.90</td>\n",
       "    </tr>\n",
       "  </tbody>\n",
       "</table>\n",
       "</div>"
      ],
      "text/plain": [
       "          age     bmi  systolic  diastolic  cholesterol\n",
       "count 4756.00 4756.00   4756.00    4756.00      4756.00\n",
       "mean    50.56   28.94    124.13      69.94         5.10\n",
       "std     17.73    6.55     18.63      13.02         1.08\n",
       "min     20.00   14.20     80.67       0.00         2.35\n",
       "25%     36.00   24.34    111.33      62.67         4.34\n",
       "50%     50.00   28.05    120.67      70.67         5.02\n",
       "75%     65.00   32.14    133.33      78.00         5.77\n",
       "max     80.00   73.43    212.67     118.67        11.90"
      ]
     },
     "metadata": {},
     "output_type": "display_data"
    },
    {
     "data": {
      "text/plain": [
       "Female    2407\n",
       "Male      2349\n",
       "Name: sex, dtype: int64"
      ]
     },
     "metadata": {},
     "output_type": "display_data"
    },
    {
     "data": {
      "text/plain": [
       "No     2477\n",
       "Yes    2279\n",
       "Name: smoke, dtype: int64"
      ]
     },
     "metadata": {},
     "output_type": "display_data"
    },
    {
     "data": {
      "text/plain": [
       "Yes    3376\n",
       "No     1380\n",
       "Name: alcohol, dtype: int64"
      ]
     },
     "metadata": {},
     "output_type": "display_data"
    },
    {
     "data": {
      "text/plain": [
       "No     4157\n",
       "Yes     599\n",
       "Name: diabetes, dtype: int64"
      ]
     },
     "metadata": {},
     "output_type": "display_data"
    },
    {
     "data": {
      "text/plain": [
       "No     4098\n",
       "Yes     658\n",
       "Name: mort10, dtype: int64"
      ]
     },
     "metadata": {},
     "output_type": "display_data"
    }
   ],
   "source": [
    "#displaying summary\n",
    "display(comp_df.describe())\n",
    "display(comp_df.sex.value_counts())\n",
    "display(comp_df.smoke.value_counts())\n",
    "display(comp_df.alcohol.value_counts())\n",
    "display(comp_df.diabetes.value_counts())\n",
    "display(comp_df.mort10.value_counts())"
   ]
  },
  {
   "cell_type": "code",
   "execution_count": 14,
   "id": "b3bdc6c7",
   "metadata": {},
   "outputs": [],
   "source": [
    "#one hot encoding\n",
    "bin_vars = comp_df[['sex', 'smoke', 'alcohol', 'diabetes', 'eligible', 'mort10']].copy() \n",
    "bin_vars = pd.get_dummies(bin_vars, drop_first = True)\n",
    "bin_vars.rename(columns = {'sex_Male': 'male',\n",
    "                           'smoke_Yes': 'smoker',\n",
    "                           'alcohol_Yes': 'alcohol',\n",
    "                           'diabetes_Yes': 'diabetes',\n",
    "                           'mort10_Yes': 'deceased'},\n",
    "                inplace = True)"
   ]
  },
  {
   "cell_type": "code",
   "execution_count": 15,
   "id": "2ce74da1",
   "metadata": {},
   "outputs": [],
   "source": [
    "comp_df = df[['age', 'bmi', 'systolic', 'diastolic', 'cholesterol']].copy().join(bin_vars, how = 'left')\n",
    "comp_df.dropna(axis = 0, how = 'any', inplace = True)\n",
    "comp_df\n",
    "comp_df.to_csv('mortality.csv')"
   ]
  }
 ],
 "metadata": {
  "kernelspec": {
   "display_name": "Python 3",
   "language": "python",
   "name": "python3"
  },
  "language_info": {
   "codemirror_mode": {
    "name": "ipython",
    "version": 3
   },
   "file_extension": ".py",
   "mimetype": "text/x-python",
   "name": "python",
   "nbconvert_exporter": "python",
   "pygments_lexer": "ipython3",
   "version": "3.8.8"
  }
 },
 "nbformat": 4,
 "nbformat_minor": 5
}
